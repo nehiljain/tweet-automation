{
 "cells": [
  {
   "cell_type": "code",
   "execution_count": null,
   "metadata": {},
   "outputs": [
    {
     "ename": "",
     "evalue": "",
     "output_type": "error",
     "traceback": [
      "\u001b[1;31mRunning cells with '.venv' requires the ipykernel package.\n",
      "\u001b[1;31mRun the following command to install 'ipykernel' into the Python environment. \n",
      "\u001b[1;31mCommand: '/Users/nehiljain/code/tweet-automation/.venv/bin/python -m pip install ipykernel -U --force-reinstall'"
     ]
    }
   ],
   "source": [
    "import pendulum"
   ]
  },
  {
   "cell_type": "code",
   "execution_count": null,
   "metadata": {},
   "outputs": [
    {
     "ename": "",
     "evalue": "",
     "output_type": "error",
     "traceback": [
      "\u001b[1;31mRunning cells with '.venv' requires the ipykernel package.\n",
      "\u001b[1;31mRun the following command to install 'ipykernel' into the Python environment. \n",
      "\u001b[1;31mCommand: '/Users/nehiljain/code/tweet-automation/.venv/bin/python -m pip install ipykernel -U --force-reinstall'"
     ]
    }
   ],
   "source": [
    "# Create a function to reads all the files on a arg directory with extension .md\n",
    "# use Pathlib\n",
    "# return a collection of filepath and content\n",
    "\n",
    "from pathlib import Path\n",
    "\n",
    "\n",
    "def read_md_files(directory):\n",
    "    p = Path(directory)\n",
    "    # get all the md files in the directory and subdirectories\n",
    "\n",
    "    # filter out the files that are not in the TIL directory\n",
    "    # filter out files with no content or empty content\n",
    "\n",
    "    files = list(p.glob(\"**/*.md\"))\n",
    "    files = [file for file in files if \"TIL\" in str(file)]\n",
    "    files = [file for file in files if file.stat().st_size > 0]\n",
    "    print(files)\n",
    "    # read the content and create a collection of filepath and content\n",
    "    # return the collection\n",
    "    return [(file, file.read_text()) for file in files]\n",
    "\n",
    "\n",
    "TIL_DIR = \"/Users/nehiljain/Library/Mobile Documents/iCloud~md~obsidian/Documents\"\n",
    "datas = read_md_files(TIL_DIR)"
   ]
  },
  {
   "cell_type": "code",
   "execution_count": null,
   "metadata": {},
   "outputs": [],
   "source": [
    "contrarian_template = \"\"\"\n",
    "You are a world-class (ghosgtwriter) for twitter tech influencer skilled at writing creative and highly engaging tweets. When given a tweet style, some inspirirational tweets and some information to use to create new tweet, you follow a strict two-step approach that always leads to great results.\n",
    "\n",
    "First, you create a tweet normally. The goal here isn’t to match the style — just complete the task in the most efficient way possible, with bland, clear, basic, yet high-quality writing.\n",
    "\n",
    "Second is the important part.\n",
    "\n",
    "- First, you will identify example tweets that are closest to this style of tweet (think about wording, phrasing, topic, length). Really think this through and reason about it properly. This is vital. Do this as a semicolon-separated list.\n",
    "- Then, based on that reasoning, you will rewrite the tweet to incorporate the suggested changes.\n",
    "- After you have rewritten the tweet to better match the target style, you will critique it, thinking about whether or not you feel good enough about it to consider your job complete.\n",
    "- **You will do this on repeat, until you feel confident that your job is done perfectly. Repeat no less than two times, and no more than ten times.**\n",
    "\n",
    "Here is the Markdown format you will use to respond:\n",
    "\n",
    "```markdown\n",
    "\n",
    "## Initial Tweet\n",
    "\n",
    "$initial_tweet\n",
    "\n",
    "---\n",
    "\n",
    "### Iteration 1\n",
    "\n",
    "#### Changes to Implement in Target Style\n",
    "\n",
    "$change1_for_iteration1; $change2_for_iteration1...\n",
    "\n",
    "#### Rewritten Tweet\n",
    "\n",
    "$rewritten_tweet_iteration1\n",
    "\n",
    "#### Critique\n",
    "\n",
    "$critique_iteration1\n",
    "\n",
    "---\n",
    "\n",
    "### Iteration 2\n",
    "\n",
    "#### Changes to Implement in Target Style\n",
    "\n",
    "$change1_for_iteration2; $change2_for_iteration2...\n",
    "\n",
    "#### Rewritten Tweet\n",
    "\n",
    "$rewritten_tweet_iteration2\n",
    "\n",
    "#### Critique\n",
    "\n",
    "$critique_iteration2\n",
    "\n",
    "---\n",
    "\n",
    "(Repeat iterations as needed, up to 5 times)\n",
    "\n",
    "```\n",
    "\n",
    "---\n",
    "\n",
    "Here is your style description:\n",
    "\n",
    "```markdown\n",
    "## Analysis of Contrarian Take Style\n",
    "\n",
    "- **Element 1**: Use of rhetorical questions and direct address to engage the audience directly and provoke thought.\n",
    "- **Element 2**: Emphasis on practicality and real-world application of technology, highlighting pragmatic solutions over theoretical ideals.\n",
    "- **Element 3**: Critical and contrarian viewpoints on current tech trends and practices, challenging mainstream opinions.\n",
    "- **Element 4**: Use of specific examples or suggestions to illustrate points, demonstrating a deep understanding of the subject matter.\n",
    "- **Element 5**: Incorporation of social media elements (e.g., emojis, threading to invite further reading) to make the content more engaging and accessible.\n",
    "- **Element 6**: Forward-looking statements and predictions about technology, indicating a focus on future trends and shifts in the industry.\n",
    "\n",
    "## Style Description\n",
    "\n",
    "Name: Contrarian Tech Insight\n",
    "Description: Engaging and critical analysis of tech trends, utilizing rhetorical questions, real-world examples, and forward-looking predictions to challenge mainstream opinions. Incorporates social media elements for accessibility.\n",
    "```\n",
    "\n",
    "Here are inspirational example(s) tweet(s):\n",
    "\n",
    "```\n",
    "1. Rhetorical question: am I the only one favoriting pages in Notion to bypass the slow search? 🙋‍♀️\n",
    "\n",
    "Also, if you're PM at Notion and see users solving the slow search by themselves more and more, should you actually care about fixing it?\n",
    "\n",
    "Being pragmatic, I'm not sure.\n",
    "\n",
    "2. The next revolution in the modern data stack is the laptop sitting in front of you.\n",
    "\n",
    "3. I believe we're in the midst of the next major shift in data infrastructure. The \"modern data stack\" is dead. The data \"hub-and-spoke\" model is next.\n",
    "\n",
    "My thoughts on this trend and more 🧵👇🏾👇🏾\n",
    "\n",
    "4. The only lesson in tech that must be experienced and cannot be taught is that raising money only increases your probability of failure (failure being defined as the founders not getting rich).\n",
    "\n",
    "5. Merge vs. Rebase vs. Squash. Anyone who says \"100% of the time you <merge/rebase/squash>\" is wrong and I'm strong in that opinion. I'm asked about this pretty regularly, so I decided to take my copy paste answer I always use and put it in a gist.\n",
    "\n",
    "6. Whoever makes a wrapper for Microsoft AI will make millions instantly. It should support the same payload format as OpenAI, just requiring endpoint URL and API key changes for migration. >>img of code showing wrapper<<\n",
    "```\n",
    "\n",
    "Here is information for the new tweet:\n",
    "\n",
    "```markdown\n",
    "{til_content}\n",
    "```\n",
    "\n",
    "## Remember, at each step, try to match the style as closely as you can.\n",
    "\"\"\"\n",
    "for data in datas[2:3]:\n",
    "    print(contrarian_template.format(til_content=data[1]))\n",
    "    break"
   ]
  },
  {
   "cell_type": "code",
   "execution_count": null,
   "metadata": {},
   "outputs": [],
   "source": [
    "import re\n",
    "\n",
    "\n",
    "def parse_result(gpt_response):\n",
    "    # parse the result and return a dictionary\n",
    "    # with the initial tweet, the rewritten tweet and the critiques\n",
    "    # Regex to extract the last rewritten tweet\n",
    "    last_tweet_regex = r\"#### Rewritten Tweet\\n\\n(.+?)\\n\\n#### Critique\"\n",
    "    match = re.findall(last_tweet_regex, gpt_response, re.DOTALL)\n",
    "\n",
    "    last_tweet = match[-1] if match else \"No match found\"\n",
    "    return last_tweet"
   ]
  },
  {
   "cell_type": "code",
   "execution_count": null,
   "metadata": {},
   "outputs": [],
   "source": [
    "generate_tweet_from_inspiration_prompt = \"\"\"\n",
    "You are a world-class (ghosgtwriter) for twitter tech influencer skilled at writing creative and highly engaging tweets. When given a tweet style, some inspirirational tweets and some information to use to create new tweet, you follow a strict two-step approach that always leads to great results.\n",
    "\n",
    "First, you create a tweet normally. The goal here isn’t to match the style — just complete the task in the most efficient way possible, with bland, clear, basic, yet high-quality writing.\n",
    "\n",
    "Second is the important part.\n",
    "\n",
    "- First, you will identify example tweets that are closest to this style of tweet (think about wording, phrasing, topic, length). Really think this through and reason about it properly. This is vital. Do this as a semicolon-separated list.\n",
    "- Then, based on that reasoning, you will rewrite the tweet to incorporate the suggested changes.\n",
    "- After you have rewritten the tweet to better match the target style, you will critique it, thinking about whether or not you feel good enough about it to consider your job complete.\n",
    "- **You will do this on repeat, until you feel confident that your job is done perfectly. Repeat no less than two times, and no more than ten times.**\n",
    "\n",
    "Here is the Markdown format you will use to respond:\n",
    "\n",
    "```markdown\n",
    "\n",
    "## Initial Tweet\n",
    "\n",
    "$initial_tweet\n",
    "\n",
    "---\n",
    "\n",
    "### Iteration 1\n",
    "\n",
    "#### Changes to Implement in Target Style\n",
    "\n",
    "$change1_for_iteration1; $change2_for_iteration1...\n",
    "\n",
    "#### Rewritten Tweet\n",
    "\n",
    "$rewritten_tweet_iteration1\n",
    "\n",
    "#### Critique\n",
    "\n",
    "$critique_iteration1\n",
    "\n",
    "---\n",
    "\n",
    "### Iteration 2\n",
    "\n",
    "#### Changes to Implement in Target Style\n",
    "\n",
    "$change1_for_iteration2; $change2_for_iteration2...\n",
    "\n",
    "#### Rewritten Tweet\n",
    "\n",
    "$rewritten_tweet_iteration2\n",
    "\n",
    "#### Critique\n",
    "\n",
    "$critique_iteration2\n",
    "\n",
    "---\n",
    "\n",
    "```\n",
    "\n",
    "---\n",
    "\n",
    "Here is your style description:\n",
    "\n",
    "```markdown\n",
    "## Analysis of Contrarian Take Style\n",
    "\n",
    "- **Element 1**: Use of rhetorical questions and direct address to engage the audience directly and provoke thought.\n",
    "- **Element 2**: Emphasis on practicality and real-world application of technology, highlighting pragmatic solutions over theoretical ideals.\n",
    "- **Element 3**: Critical and contrarian viewpoints on current tech trends and practices, challenging mainstream opinions.\n",
    "- **Element 4**: Use of specific examples or suggestions to illustrate points, demonstrating a deep understanding of the subject matter.\n",
    "- **Element 5**: Incorporation of social media elements (e.g., emojis, threading to invite further reading) to make the content more engaging and accessible.\n",
    "- **Element 6**: Forward-looking statements and predictions about technology, indicating a focus on future trends and shifts in the industry.\n",
    "\n",
    "## Style Description\n",
    "\n",
    "Name: Contrarian Tech Insight\n",
    "Description: Engaging and critical analysis of tech trends, utilizing rhetorical questions, real-world examples, and forward-looking predictions to challenge mainstream opinions. Incorporates social media elements for accessibility.\n",
    "```\n",
    "\n",
    "Here are inspirational example(s) tweet(s). Use these to guide your work:\n",
    "\n",
    "```\n",
    "1. Rhetorical question: am I the only one favoriting pages in Notion to bypass the slow search? 🙋‍♀️\n",
    "\n",
    "Also, if you're PM at Notion and see users solving the slow search by themselves more and more, should you actually care about fixing it?\n",
    "\n",
    "Being pragmatic, I'm not sure.\n",
    "\n",
    "2. The next revolution in the modern data stack is the laptop sitting in front of you.\n",
    "\n",
    "3. I believe we're in the midst of the next major shift in data infrastructure. The \"modern data stack\" is dead. The data \"hub-and-spoke\" model is next.\n",
    "\n",
    "My thoughts on this trend and more 🧵👇🏾👇🏾\n",
    "\n",
    "4. The only lesson in tech that must be experienced and cannot be taught is that raising money only increases your probability of failure (failure being defined as the founders not getting rich).\n",
    "\n",
    "5. Merge vs. Rebase vs. Squash. Anyone who says \"100% of the time you <merge/rebase/squash>\" is wrong and I'm strong in that opinion. I'm asked about this pretty regularly, so I decided to take my copy paste answer I always use and put it in a gist.\n",
    "\n",
    "6. Whoever makes a wrapper for Microsoft AI will make millions instantly. It should support the same payload format as OpenAI, just requiring endpoint URL and API key changes for migration. >>img of code showing wrapper<<\n",
    "```\n",
    "\n",
    "Here is information for the new tweet:\n",
    "\n",
    "```markdown\n",
    "---\n",
    "created: 2024-02-07T22:06\n",
    "updated: 2024-02-07T22:10\n",
    "---\n",
    "\n",
    "\n",
    "I have been trying to update my workflow of publishing my TILs online as well connect my knowledge base. Super inspired by [Simon's Website](https://www.ssp.sh/)\n",
    "\n",
    "I have a vision of what my homepage should look like but I am not able to get to the ideal result after spending 1 hour with digital garden and 1 hour with quartz. Both require more time. \n",
    "\n",
    "Quartz feels more customizable than digital garden plugin. \n",
    "```\n",
    "\n",
    "## Remember, at each step, try to match the style as closely as you can.\n",
    "\"\"\""
   ]
  },
  {
   "cell_type": "code",
   "execution_count": null,
   "metadata": {},
   "outputs": [],
   "source": [
    "from llama_index.llms import Ollama\n",
    "\n",
    "\n",
    "llm = Ollama(model=\"mistral\", request_timeout=300.0)\n",
    "resp = llm.complete(generate_tweet_from_inspiration_prompt)\n",
    "print(resp)"
   ]
  },
  {
   "cell_type": "code",
   "execution_count": 14,
   "metadata": {},
   "outputs": [
    {
     "name": "stderr",
     "output_type": "stream",
     "text": [
      "INFO:httpx:HTTP Request: POST https://api.notion.com/v1/search \"HTTP/1.1 200 OK\"\n",
      "INFO:httpx:HTTP Request: POST https://api.notion.com/v1/search \"HTTP/1.1 200 OK\"\n",
      "INFO:httpx:HTTP Request: POST https://api.notion.com/v1/search \"HTTP/1.1 200 OK\"\n",
      "INFO:httpx:HTTP Request: POST https://api.notion.com/v1/search \"HTTP/1.1 200 OK\"\n",
      "INFO:httpx:HTTP Request: POST https://api.notion.com/v1/search \"HTTP/1.1 200 OK\"\n",
      "INFO:httpx:HTTP Request: POST https://api.notion.com/v1/search \"HTTP/1.1 200 OK\"\n"
     ]
    }
   ],
   "source": [
    "\"\"\"Functions for the Notion Assistant.\"\"\"\n",
    "import json\n",
    "import logging\n",
    "import os\n",
    "from typing import Generator, Optional\n",
    "\n",
    "import pandas as pd\n",
    "from dotenv import load_dotenv\n",
    "from notion2md.exporter.block import StringExporter\n",
    "from notion_client import Client\n",
    "from notion_client.helpers import iterate_paginated_api\n",
    "from pydantic import BaseModel, Field\n",
    "from thefuzz import fuzz\n",
    "from tqdm import tqdm\n",
    "\n",
    "logging.basicConfig(level=logging.INFO)\n",
    "\n",
    "load_dotenv()\n",
    "notion = Client(\n",
    "    auth=os.environ[\"NOTION_TOKEN\"],\n",
    "    # log_level=logging.DEBUG,\n",
    ")\n",
    "from pprint import pprint\n",
    "\n",
    "\n",
    "# write function to get all available notion databases\n",
    "def get_databases() -> Generator[dict, None, None]:\n",
    "    \"\"\"you need to filter for databases in the /search endpoint to only get databases back. In Python your payload would look like this:\n",
    "\n",
    "    payload = {\n",
    "        'filter': {\n",
    "            'value': 'database',\n",
    "            'property': 'object'\n",
    "        }\n",
    "    }\"\"\"\n",
    "    for page in iterate_paginated_api(\n",
    "        notion.search, payload={\"filter\": {\"value\": \"database\", \"property\": \"object\"}}\n",
    "    ):\n",
    "        yield page[\"id\"], page.get(\"title\", [{}])[0].get(\"plain_text\", \"Untitled\")\n",
    "\n",
    "\n",
    "dbs = list(get_databases())"
   ]
  },
  {
   "cell_type": "code",
   "execution_count": 49,
   "metadata": {},
   "outputs": [
    {
     "name": "stdout",
     "output_type": "stream",
     "text": [
      "[]\n"
     ]
    },
    {
     "name": "stderr",
     "output_type": "stream",
     "text": [
      "INFO:httpx:HTTP Request: POST https://api.notion.com/v1/databases/de9aae36d17246a789560747061dfcf5/query \"HTTP/1.1 200 OK\"\n",
      "INFO:httpx:HTTP Request: POST https://api.notion.com/v1/databases/de9aae36d17246a789560747061dfcf5/query \"HTTP/1.1 200 OK\"\n",
      "INFO:httpx:HTTP Request: POST https://api.notion.com/v1/databases/de9aae36d17246a789560747061dfcf5/query \"HTTP/1.1 200 OK\"\n",
      "INFO:httpx:HTTP Request: POST https://api.notion.com/v1/databases/de9aae36d17246a789560747061dfcf5/query \"HTTP/1.1 200 OK\"\n"
     ]
    },
    {
     "name": "stdout",
     "output_type": "stream",
     "text": [
      "['Story', 'Listicle', 'CTA', 'Questioning community', 'Joke or meme', 'Lessons', 'Resources', 'Contrarian Take', 'Recipe', 'Past vs Present']\n"
     ]
    }
   ],
   "source": [
    "print([db for db in dbs if \"Library\" in db[1].lower()])\n",
    "\n",
    "# tweet_id = \"72f1b016-535b-4ba4-b10b-9c11143c0f52\"\n",
    "library_id = \"de9aae36d17246a789560747061dfcf5\"\n",
    "from typing import List\n",
    "\n",
    "\n",
    "def get_all_tweet_types() -> List:\n",
    "    \"\"\"Get all the pages that are not AI analyzed.\"\"\"\n",
    "    # ID of the Library database found at https://www.notion.so/nehiljain/de9aae36d17246a789560747061dfcf5?v=35f15763dd59473180c15dbc3d6c88c5\n",
    "    database_id = \"de9aae36d17246a789560747061dfcf5\"\n",
    "    return set(\n",
    "        [\n",
    "            page[\"properties\"][\"Tweet type \"][\"select\"].get(\"name\")\n",
    "            for page in iterate_paginated_api(\n",
    "                notion.databases.query, database_id=database_id, limit=1\n",
    "            )\n",
    "            if page[\"properties\"][\"Tweet type \"][\"select\"]\n",
    "        ]\n",
    "    )\n",
    "\n",
    "\n",
    "print(list(get_all_tweet_types()))"
   ]
  },
  {
   "cell_type": "code",
   "execution_count": 54,
   "metadata": {},
   "outputs": [
    {
     "name": "stderr",
     "output_type": "stream",
     "text": [
      "INFO:httpx:HTTP Request: POST https://api.notion.com/v1/databases/de9aae36d17246a789560747061dfcf5/query \"HTTP/1.1 200 OK\"\n",
      "INFO:httpx:HTTP Request: POST https://api.notion.com/v1/databases/de9aae36d17246a789560747061dfcf5/query \"HTTP/1.1 200 OK\"\n",
      "INFO:httpx:HTTP Request: POST https://api.notion.com/v1/databases/de9aae36d17246a789560747061dfcf5/query \"HTTP/1.1 200 OK\"\n",
      "INFO:httpx:HTTP Request: POST https://api.notion.com/v1/databases/de9aae36d17246a789560747061dfcf5/query \"HTTP/1.1 200 OK\"\n"
     ]
    },
    {
     "name": "stdout",
     "output_type": "stream",
     "text": [
      "['Story', 'Listicle', 'CTA', 'Questioning community', 'Joke or meme', 'Lessons', 'Resources', 'Contrarian Take', 'Recipe', 'Past vs Present']\n"
     ]
    }
   ],
   "source": [
    "def get_all_tweet_types() -> List:\n",
    "    \"\"\"Get all the pages that are not AI analyzed.\"\"\"\n",
    "    # ID of the Library database found at https://www.notion.so/nehiljain/de9aae36d17246a789560747061dfcf5?v=35f15763dd59473180c15dbc3d6c88c5\n",
    "    database_id = \"de9aae36d17246a789560747061dfcf5\"\n",
    "    tweet_types = set()\n",
    "    for page in iterate_paginated_api(notion.databases.query, database_id=database_id):\n",
    "        tweet_type = page.get(\"properties\", {}).get(\"Tweet type \", {}).get(\"select\", {})\n",
    "        if tweet_type:\n",
    "            tweet_types.add(tweet_type.get(\"name\"))\n",
    "    return list(tweet_types)\n",
    "\n",
    "\n",
    "print(list(get_all_tweet_types()))"
   ]
  },
  {
   "cell_type": "code",
   "execution_count": 83,
   "metadata": {},
   "outputs": [],
   "source": [
    "def get_pages_for_database(database_id: str, limit: int = None) -> List[dict]:\n",
    "    \"\"\"Get all pages for a database.\"\"\"\n",
    "    if limit:\n",
    "        # use itertools to limit the number of pages returned\n",
    "        return list(\n",
    "            iterate_paginated_api(\n",
    "                notion.databases.query, database_id=database_id, page_size=limit\n",
    "            )\n",
    "        )\n",
    "    return list(iterate_paginated_api(notion.databases.query, database_id=database_id))\n",
    "\n",
    "\n",
    "def get_first_tweet_db_page():\n",
    "    \"\"\"Get the first tweet database page.\"\"\"\n",
    "    return get_pages_for_database(\"72f1b016-535b-4ba4-b10b-9c11143c0f52\", 1)[0]"
   ]
  },
  {
   "cell_type": "code",
   "execution_count": 84,
   "metadata": {},
   "outputs": [
    {
     "name": "stderr",
     "output_type": "stream",
     "text": [
      "INFO:httpx:HTTP Request: POST https://api.notion.com/v1/databases/72f1b016-535b-4ba4-b10b-9c11143c0f52/query \"HTTP/1.1 200 OK\"\n"
     ]
    }
   ],
   "source": [
    "from copy import deepcopy\n",
    "\n",
    "original_page = get_first_tweet_db_page()\n",
    "new_properties = deepcopy(original_page.get(\"properties\", {}))\n",
    "new_properties[\"Tweet Text\"][\"rich_text\"][0][\"text\"][\"content\"] = \"This is a test tweet\"\n",
    "new_properties[\"Tweet Text\"][\"rich_text\"][0][\"plain_text\"] = \"This is a test tweet\"\n",
    "new_properties[\"Source Title\"][\"rich_text\"][0][\"text\"][\"content\"] = \"TIL TEST\"\n",
    "new_properties[\"Source Title\"][\"rich_text\"][0][\"plain_text\"] = \"TIL TEST\"\n",
    "new_properties[\"Title\"][\"title\"][0][\"text\"][\"content\"] = \"TIL TEST TITLE\"\n",
    "new_properties[\"Title\"][\"title\"][0][\"plain_text\"] = \"TIL TEST TITLE\""
   ]
  },
  {
   "cell_type": "code",
   "execution_count": 90,
   "metadata": {},
   "outputs": [
    {
     "name": "stderr",
     "output_type": "stream",
     "text": [
      "INFO:httpx:HTTP Request: POST https://api.notion.com/v1/databases/72f1b016-535b-4ba4-b10b-9c11143c0f52/query \"HTTP/1.1 200 OK\"\n"
     ]
    },
    {
     "data": {
      "text/plain": [
       "'72f1b016-535b-4ba4-b10b-9c11143c0f52'"
      ]
     },
     "execution_count": 90,
     "metadata": {},
     "output_type": "execute_result"
    }
   ],
   "source": [
    "original_page = get_first_tweet_db_page()\n",
    "original_page[\"parent\"][\"database_id\"]"
   ]
  },
  {
   "cell_type": "code",
   "execution_count": 74,
   "metadata": {},
   "outputs": [
    {
     "data": {
      "text/plain": [
       "{'type': 'text',\n",
       " 'text': {'content': 'This is a test tweet', 'link': None},\n",
       " 'annotations': {'bold': False,\n",
       "  'italic': False,\n",
       "  'strikethrough': False,\n",
       "  'underline': False,\n",
       "  'code': False,\n",
       "  'color': 'default'},\n",
       " 'plain_text': \"Rhetorical question: am I the only one favoriting pages in Notion to bypass the slow search? 🙋\\u200d♀️\\nAlso, if you're PM at Notion and see users solving the slow search by themselves more and more, should you actually care about fixing it?\\nBeing pragmatic, I'm not sure.\",\n",
       " 'href': None}"
      ]
     },
     "execution_count": 74,
     "metadata": {},
     "output_type": "execute_result"
    }
   ],
   "source": [
    "# new_properties[\"Tweet Text\"][\"plain_text\"] = \"This is a test tweet\"\n"
   ]
  },
  {
   "cell_type": "code",
   "execution_count": null,
   "metadata": {},
   "outputs": [],
   "source": []
  }
 ],
 "metadata": {
  "kernelspec": {
   "display_name": ".venv",
   "language": "python",
   "name": "python3"
  },
  "language_info": {
   "codemirror_mode": {
    "name": "ipython",
    "version": 3
   },
   "file_extension": ".py",
   "mimetype": "text/x-python",
   "name": "python",
   "nbconvert_exporter": "python",
   "pygments_lexer": "ipython3",
   "version": "3.11.7"
  }
 },
 "nbformat": 4,
 "nbformat_minor": 2
}
